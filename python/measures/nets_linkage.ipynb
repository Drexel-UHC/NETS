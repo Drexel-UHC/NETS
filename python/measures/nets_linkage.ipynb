{
 "cells": [
  {
   "cell_type": "code",
   "execution_count": 123,
   "metadata": {},
   "outputs": [],
   "source": [
    "import pandas as pd\n",
    "import os\n",
    "from datetime import datetime\n",
    "import time"
   ]
  },
  {
   "cell_type": "code",
   "execution_count": 124,
   "metadata": {},
   "outputs": [
    {
     "name": "stdout",
     "output_type": "stream",
     "text": [
      "Start Time: 2024-04-18 13:49:33.582194\n"
     ]
    }
   ],
   "source": [
    "# START SCRIPT TIMER\n",
    "print(f\"Start Time: {datetime.now()}\")\n",
    "tic = time.perf_counter()"
   ]
  },
  {
   "cell_type": "code",
   "execution_count": 115,
   "metadata": {},
   "outputs": [],
   "source": [
    "# ADD USER FILE PATHS\n",
    "\n",
    "# BEDDN spatial file used to create generate near table\n",
    "dunslocs_file = r'Z:\\UHC_Data\\NETS_UHC\\NETS2022\\Geodatabases\\NETS2022_locs.gdb\\DunsLocations20231130_v2'\n",
    "\n",
    "# participant location file used to create generate near table\n",
    "mesa_locs_file = r'X:\\AddressGeocoding\\From_MESA_Air\\Data\\MESAAIR_locs.gdb\\mesa_locs_aeac_zcta10'\n",
    "\n",
    "# generate near table\n",
    "near_table_file = r'X:\\AddressGeocoding\\From_MESA_Air\\Data\\Temp\\scratch\\NETS_linkage_test.gdb\\mesa_nets_linkage_test_sample_mini'\n",
    "\n",
    "classifiedlong_file = r'Z:\\UHC_Data\\NETS_UHC\\NETS2022\\Data\\Final\\ClassifiedLong20231127.txt'\n",
    "dunsmove_file = r'Z:\\UHC_Data\\NETS_UHC\\NETS2022\\Data\\Final\\DunsMove20231201.txt'\n",
    "cat_descriptions_file = r'Z:\\UHC_Data\\NETS_UHC\\NETS2022\\Data\\Final\\CategoryDescriptions20231127.txt'\n",
    "xwalk_file = r'Z:\\UHC_Data\\NETS_UHC\\NETS2022\\Data\\Final\\BG_CC_TC_Xwalk20231023.txt'\n",
    "output_folder = r'D:\\scratch'"
   ]
  },
  {
   "cell_type": "code",
   "execution_count": 116,
   "metadata": {},
   "outputs": [
    {
     "name": "stdout",
     "output_type": "stream",
     "text": [
      "['Food', 'Healthcare', 'Physical Activity', 'Social', 'Cognitive Enrichment', 'Financial', 'Alcohol, Tobacco, Marijuana, Firearm', 'Walking', 'Transportation', 'Disaster/Construction']\n"
     ]
    }
   ],
   "source": [
    "# USER INPUTS\n",
    "\n",
    "# provide list of year(s)\n",
    "years = [2000, 2005]\n",
    "\n",
    "# use hierarchy? True or False\n",
    "hierarchy = True\n",
    "\n",
    "# limit categories? True or False\n",
    "limit_cats = False\n",
    "\n",
    "# if True, pick categories:\n",
    "\n",
    "# print list of domains\n",
    "desc = pd.read_csv(cat_descriptions_file, sep='\\t')\n",
    "domlist = list(desc['Domain'].unique())\n",
    "print(domlist)\n",
    "\n",
    "# provide list of categories by entire domain (optional):\n",
    "domains = ['Financial']\n",
    "\n",
    "# provide list of individual categories (optional):\n",
    "categories = ['DLR', 'CMN', 'GRY']\n",
    "\n",
    "# provide UHCMatchCodeRank threshold (<=) for NETS/BEDDN and participant location. if no threshold desired, use value of 99:\n",
    "UHCMCR_NETS = 6\n",
    "UHCMCR_PART = 6\n",
    "\n",
    "# provide buffer sizes in km\n",
    "buff_sizes = [0.5, 1, 1.609]\n"
   ]
  },
  {
   "cell_type": "code",
   "execution_count": 117,
   "metadata": {},
   "outputs": [],
   "source": [
    "arcpy.env.workspace = r\"F:\\Arc_Projects\\NETS_test_linkage\""
   ]
  },
  {
   "cell_type": "code",
   "execution_count": 118,
   "metadata": {},
   "outputs": [],
   "source": [
    "# CONVERT FC/GDB TABLE TO PANDAS DF\n",
    "\n",
    "# define function to convert fc table to pandas dataframe\n",
    "def table_to_data_frame(in_table, input_fields=None, where_clause=None):\n",
    "    \"\"\"Function will convert an arcgis table into a pandas dataframe with an object ID index, and the selected\n",
    "    input fields using an arcpy.da.SearchCursor.\"\"\"\n",
    "    OIDFieldName = arcpy.Describe(in_table).OIDFieldName\n",
    "    if input_fields:\n",
    "        final_fields = [OIDFieldName] + input_fields\n",
    "    else:\n",
    "        final_fields = [field.name for field in arcpy.ListFields(in_table)]\n",
    "    data = [row for row in arcpy.da.SearchCursor(in_table, final_fields, where_clause=where_clause)]\n",
    "    fc_dataframe = pd.DataFrame(data, columns=final_fields)\n",
    "    fc_dataframe = fc_dataframe.set_index(OIDFieldName, drop=True)\n",
    "    return fc_dataframe"
   ]
  },
  {
   "cell_type": "code",
   "execution_count": 125,
   "metadata": {
    "scrolled": true
   },
   "outputs": [
    {
     "name": "stdout",
     "output_type": "stream",
     "text": [
      "nrows of mesa_locs before removing low quality geocodes: 16703\n",
      "nrows of mesa_locs after removing low quality geocodes: 15160\n"
     ]
    }
   ],
   "source": [
    "# LOAD NEAR TABLE AND MESA LOCS THEN MERGE\n",
    "\n",
    "# load table and round NEAR_DIST to 3 decimal points\n",
    "near_df = table_to_data_frame(near_table_file, input_fields=['IN_FID', 'NEAR_FID', 'NEAR_DIST'])\n",
    "near_df['NEAR_DIST'] = near_df['NEAR_DIST'].round(3)\n",
    "\n",
    "mesa_locs = table_to_data_frame(mesa_locs_file, input_fields=['LOCID_DREXEL', 'UHCMatchCodeRank'])\n",
    "print(f'nrows of mesa_locs before removing low quality geocodes: {len(mesa_locs)}')\n",
    "\n",
    "# remove records where UHCMatchCodeRank is above threshold\n",
    "mesa_locs = mesa_locs.loc[mesa_locs['UHCMatchCodeRank'] <= UHCMCR_PART]\n",
    "print(f'nrows of mesa_locs after removing low quality geocodes: {len(mesa_locs)}')\n",
    "\n",
    "# merge participant location unique ids and uhcmatchcoderank to near table\n",
    "join_mesa = (near_df\n",
    "              .merge(mesa_locs, how='left', left_on='IN_FID', right_on='OBJECTID')\n",
    "              .drop(columns=['IN_FID', 'UHCMatchCodeRank'])\n",
    "             )\n",
    "del mesa_locs, near_df"
   ]
  },
  {
   "cell_type": "code",
   "execution_count": 126,
   "metadata": {},
   "outputs": [
    {
     "name": "stdout",
     "output_type": "stream",
     "text": [
      "nrows of duns_locs after removing low quality geocodes: 25025336\n"
     ]
    }
   ],
   "source": [
    "# LOAD DUNS LOCS THEN MERGE\n",
    "duns_locs = table_to_data_frame(dunslocs_file, input_fields=['AddressID', 'UHCMatchCodeRank'])\n",
    "print(f'nrows of duns_locs before removing low quality geocodes: {len(duns_locs)}')\n",
    "\n",
    "# remove records where UHCMatchCodeRank is above threshold\n",
    "duns_locs = duns_locs.loc[duns_locs['UHCMatchCodeRank'] <= UHCMCR_NETS]\n",
    "print(f'nrows of duns_locs after removing low quality geocodes: {len(duns_locs)}')\n",
    "\n",
    "# merge beddn addressids and uhcmatchcoderank\n",
    "join_addressid = (join_mesa\n",
    "                  .merge(duns_locs, how='left', left_on='NEAR_FID', right_on='OBJECTID')\n",
    "                  .drop(columns=['NEAR_FID', 'UHCMatchCodeRank'])\n",
    "                 )\n",
    "del join_mesa # add duns_locs here"
   ]
  },
  {
   "cell_type": "code",
   "execution_count": 128,
   "metadata": {},
   "outputs": [
    {
     "data": {
      "text/html": [
       "<div>\n",
       "<style scoped>\n",
       "    .dataframe tbody tr th:only-of-type {\n",
       "        vertical-align: middle;\n",
       "    }\n",
       "\n",
       "    .dataframe tbody tr th {\n",
       "        vertical-align: top;\n",
       "    }\n",
       "\n",
       "    .dataframe thead th {\n",
       "        text-align: right;\n",
       "    }\n",
       "</style>\n",
       "<table border=\"1\" class=\"dataframe\">\n",
       "  <thead>\n",
       "    <tr style=\"text-align: right;\">\n",
       "      <th></th>\n",
       "      <th>NEAR_DIST</th>\n",
       "      <th>LOCID_DREXEL</th>\n",
       "      <th>AddressID</th>\n",
       "    </tr>\n",
       "  </thead>\n",
       "  <tbody>\n",
       "    <tr>\n",
       "      <th>0</th>\n",
       "      <td>0.015</td>\n",
       "      <td>83870937.0</td>\n",
       "      <td>A014454029</td>\n",
       "    </tr>\n",
       "    <tr>\n",
       "      <th>1</th>\n",
       "      <td>0.024</td>\n",
       "      <td>83870937.0</td>\n",
       "      <td>A009584402</td>\n",
       "    </tr>\n",
       "    <tr>\n",
       "      <th>2</th>\n",
       "      <td>0.024</td>\n",
       "      <td>83870937.0</td>\n",
       "      <td>A011312061</td>\n",
       "    </tr>\n",
       "    <tr>\n",
       "      <th>3</th>\n",
       "      <td>0.025</td>\n",
       "      <td>83870937.0</td>\n",
       "      <td>A016498116</td>\n",
       "    </tr>\n",
       "    <tr>\n",
       "      <th>4</th>\n",
       "      <td>0.025</td>\n",
       "      <td>83870937.0</td>\n",
       "      <td>A023517595</td>\n",
       "    </tr>\n",
       "    <tr>\n",
       "      <th>...</th>\n",
       "      <td>...</td>\n",
       "      <td>...</td>\n",
       "      <td>...</td>\n",
       "    </tr>\n",
       "    <tr>\n",
       "      <th>999995</th>\n",
       "      <td>4.461</td>\n",
       "      <td>18761288.0</td>\n",
       "      <td>A006182179</td>\n",
       "    </tr>\n",
       "    <tr>\n",
       "      <th>999996</th>\n",
       "      <td>4.461</td>\n",
       "      <td>18761288.0</td>\n",
       "      <td>A014215988</td>\n",
       "    </tr>\n",
       "    <tr>\n",
       "      <th>999997</th>\n",
       "      <td>4.461</td>\n",
       "      <td>18761288.0</td>\n",
       "      <td>A023648477</td>\n",
       "    </tr>\n",
       "    <tr>\n",
       "      <th>999998</th>\n",
       "      <td>4.461</td>\n",
       "      <td>18761288.0</td>\n",
       "      <td>A001494850</td>\n",
       "    </tr>\n",
       "    <tr>\n",
       "      <th>999999</th>\n",
       "      <td>4.461</td>\n",
       "      <td>18761288.0</td>\n",
       "      <td>A022113619</td>\n",
       "    </tr>\n",
       "  </tbody>\n",
       "</table>\n",
       "<p>1000000 rows × 3 columns</p>\n",
       "</div>"
      ],
      "text/plain": [
       "        NEAR_DIST  LOCID_DREXEL   AddressID\n",
       "0           0.015    83870937.0  A014454029\n",
       "1           0.024    83870937.0  A009584402\n",
       "2           0.024    83870937.0  A011312061\n",
       "3           0.025    83870937.0  A016498116\n",
       "4           0.025    83870937.0  A023517595\n",
       "...           ...           ...         ...\n",
       "999995      4.461    18761288.0  A006182179\n",
       "999996      4.461    18761288.0  A014215988\n",
       "999997      4.461    18761288.0  A023648477\n",
       "999998      4.461    18761288.0  A001494850\n",
       "999999      4.461    18761288.0  A022113619\n",
       "\n",
       "[1000000 rows x 3 columns]"
      ]
     },
     "execution_count": 128,
     "metadata": {},
     "output_type": "execute_result"
    }
   ],
   "source": [
    "join_addressid"
   ]
  },
  {
   "cell_type": "code",
   "execution_count": 129,
   "metadata": {},
   "outputs": [
    {
     "name": "stdout",
     "output_type": "stream",
     "text": [
      "n of unique LOCID_DREXELs: 6\n",
      "n of unique AddressIDs: 425840\n"
     ]
    }
   ],
   "source": [
    "# how many unique LOCID_DREXELs are there?\n",
    "uniq_locid = join_addressid['LOCID_DREXEL'].nunique()\n",
    "print(f'n of unique LOCID_DREXELs: {uniq_locid}')\n",
    "\n",
    "# how many unique AddressIDs are there?\n",
    "uniq_add = join_addressid['AddressID'].nunique()\n",
    "print(f'n of unique AddressIDs: {uniq_add}')"
   ]
  },
  {
   "cell_type": "code",
   "execution_count": 108,
   "metadata": {},
   "outputs": [],
   "source": [
    "# READ IN DUNSMOVE AND SUBSET BY YEAR\n",
    "dunsmove = pd.read_csv(dunsmove_file, sep='\\t', usecols=['DunsYear', 'DunsMove', 'AddressID', 'Year'], dtype={'Year':int})\n",
    "\n",
    "# subset dunsmove for years requested\n",
    "dunsmove = dunsmove.loc[dunsmove['Year'].isin(years)] \n",
    "\n",
    "# merge in dunsmove columns\n",
    "join_dunsmove = join_addressid.merge(dunsmove, how='left', on='AddressID')\n",
    "del dunsmove, join_addressid"
   ]
  },
  {
   "cell_type": "code",
   "execution_count": null,
   "metadata": {},
   "outputs": [],
   "source": [
    "# READ IN CLASSIFIED LONG AND SUBSET BY CATEGORY IF APPLICABLE\n",
    "classlong = pd.read_csv(classifiedlong_file, sep='\\t', usecols=['DunsYear','BaseGroup'])\n",
    "\n",
    "# subset for provided categories\n",
    "if limit_cats == True:\n",
    "    # grab all categories in chosen domain(s)\n",
    "    domain_cats = desc['Category'].loc[desc['Domain'].isin(domains)]  \n",
    "    all_cats = list(domain_cats)\n",
    "\n",
    "    # grab all additional categories\n",
    "    [all_cats.append(category) for category in categories]\n",
    "    classlong = classlong.loc[classlong['BaseGroup'].isin(all_cats)]\n",
    "else:\n",
    "    pass\n",
    "\n",
    "# del classlong"
   ]
  },
  {
   "cell_type": "code",
   "execution_count": 52,
   "metadata": {},
   "outputs": [],
   "source": [
    "# MERGE BASE GROUP (CLASSIFIED) DATA \n",
    "join_classlong = join_dunsmove.merge(classlong, how='inner', on='DunsYear')"
   ]
  },
  {
   "cell_type": "code",
   "execution_count": 53,
   "metadata": {},
   "outputs": [
    {
     "data": {
      "text/plain": [
       "(15802414, 9)"
      ]
     },
     "execution_count": 53,
     "metadata": {},
     "output_type": "execute_result"
    }
   ],
   "source": [
    "join_classlong.shape"
   ]
  },
  {
   "cell_type": "code",
   "execution_count": 54,
   "metadata": {},
   "outputs": [],
   "source": [
    "# MERGE HIGH LEVEL CATEGORIES\n",
    "xwalk = pd.read_csv(xwalk_file, sep='\\t')\n",
    "join_xwalk = join_classlong.merge(xwalk[['BaseGroup', 'HighLevel']], on='BaseGroup')"
   ]
  },
  {
   "cell_type": "code",
   "execution_count": 58,
   "metadata": {},
   "outputs": [],
   "source": [
    "# APPLY HIERARCHY IF APPLICABLE\n",
    "if hierarchy == True:\n",
    "    # join hierarchy\n",
    "    join_classlong = (join_classlong\n",
    "                   .merge(desc[['Category', 'Hierarchy']], left_on='BaseGroup', right_on='Category')\n",
    "                   .drop(columns=['Category']))\n",
    "    \n",
    "    # sort by hierarchy, then drop all duplicates of dunsyear, keep first instance\n",
    "    hierarchy_version = (join_classlong\n",
    "                         .sort_values(by='Hierarchy')\n",
    "                         .drop_duplicates(subset=['DunsYear', 'Year'], keep='first'))\n",
    "else: \n",
    "    pass\n"
   ]
  },
  {
   "cell_type": "code",
   "execution_count": null,
   "metadata": {},
   "outputs": [],
   "source": [
    "# SEPARATE INTO SEPARATE BUFFER BINS\n",
    "\n"
   ]
  },
  {
   "cell_type": "code",
   "execution_count": 59,
   "metadata": {},
   "outputs": [
    {
     "name": "stdout",
     "output_type": "stream",
     "text": [
      "working on: 2000\n",
      "working on: 2005\n"
     ]
    }
   ],
   "source": [
    "# LOOP THROUGH YEARS TO SPLIT INTO SEPARATE YEAR FILES \n",
    "for year in years:\n",
    "    print(f'working on: {year}')\n",
    "    temp = measures.loc[measures['Year'] == year]\n",
    "    output_file = os.path.join(output_folder, f'beddn_businesslevel_measures{year}.txt')\n",
    "    temp.to_csv(output_file, sep='\\t', index=False)"
   ]
  },
  {
   "cell_type": "code",
   "execution_count": 49,
   "metadata": {},
   "outputs": [
    {
     "name": "stdout",
     "output_type": "stream",
     "text": [
      "total time: 23.86 minutes\n"
     ]
    }
   ],
   "source": [
    "# END SCRIPT TIMER \n",
    "toc = time.perf_counter()\n",
    "t = toc - tic\n",
    "print(f'total time: {round(t/60, 2)} minutes')"
   ]
  },
  {
   "cell_type": "code",
   "execution_count": 60,
   "metadata": {},
   "outputs": [
    {
     "data": {
      "text/plain": [
       "(15802414, 10)"
      ]
     },
     "execution_count": 60,
     "metadata": {},
     "output_type": "execute_result"
    }
   ],
   "source": [
    "join_classlong.shape"
   ]
  },
  {
   "cell_type": "code",
   "execution_count": 61,
   "metadata": {},
   "outputs": [
    {
     "data": {
      "text/html": [
       "<div>\n",
       "<style scoped>\n",
       "    .dataframe tbody tr th:only-of-type {\n",
       "        vertical-align: middle;\n",
       "    }\n",
       "\n",
       "    .dataframe tbody tr th {\n",
       "        vertical-align: top;\n",
       "    }\n",
       "\n",
       "    .dataframe thead th {\n",
       "        text-align: right;\n",
       "    }\n",
       "</style>\n",
       "<table border=\"1\" class=\"dataframe\">\n",
       "  <thead>\n",
       "    <tr style=\"text-align: right;\">\n",
       "      <th></th>\n",
       "      <th>NEAR_DIST</th>\n",
       "      <th>LOCID_DREXEL</th>\n",
       "      <th>UHCMatchCodeRank_MESA</th>\n",
       "      <th>AddressID</th>\n",
       "      <th>UHCMatchCodeRank_NETS</th>\n",
       "      <th>DunsYear</th>\n",
       "      <th>DunsMove</th>\n",
       "      <th>Year</th>\n",
       "      <th>BaseGroup</th>\n",
       "      <th>Hierarchy</th>\n",
       "    </tr>\n",
       "  </thead>\n",
       "  <tbody>\n",
       "    <tr>\n",
       "      <th>9</th>\n",
       "      <td>0.872865</td>\n",
       "      <td>83870937</td>\n",
       "      <td>2</td>\n",
       "      <td>A003385323</td>\n",
       "      <td>1.0</td>\n",
       "      <td>138610097_2005</td>\n",
       "      <td>1.013861e+10</td>\n",
       "      <td>2005.0</td>\n",
       "      <td>TAX</td>\n",
       "      <td>108.0</td>\n",
       "    </tr>\n",
       "    <tr>\n",
       "      <th>10</th>\n",
       "      <td>8.037194</td>\n",
       "      <td>35486391</td>\n",
       "      <td>2</td>\n",
       "      <td>A003385323</td>\n",
       "      <td>1.0</td>\n",
       "      <td>138610097_2005</td>\n",
       "      <td>1.013861e+10</td>\n",
       "      <td>2005.0</td>\n",
       "      <td>TAX</td>\n",
       "      <td>108.0</td>\n",
       "    </tr>\n",
       "    <tr>\n",
       "      <th>11</th>\n",
       "      <td>5.322168</td>\n",
       "      <td>9105744</td>\n",
       "      <td>2</td>\n",
       "      <td>A003385323</td>\n",
       "      <td>1.0</td>\n",
       "      <td>138610097_2005</td>\n",
       "      <td>1.013861e+10</td>\n",
       "      <td>2005.0</td>\n",
       "      <td>TAX</td>\n",
       "      <td>108.0</td>\n",
       "    </tr>\n",
       "    <tr>\n",
       "      <th>12</th>\n",
       "      <td>6.325217</td>\n",
       "      <td>13809317</td>\n",
       "      <td>2</td>\n",
       "      <td>A003385323</td>\n",
       "      <td>1.0</td>\n",
       "      <td>138610097_2005</td>\n",
       "      <td>1.013861e+10</td>\n",
       "      <td>2005.0</td>\n",
       "      <td>TAX</td>\n",
       "      <td>108.0</td>\n",
       "    </tr>\n",
       "    <tr>\n",
       "      <th>13</th>\n",
       "      <td>7.428676</td>\n",
       "      <td>88663423</td>\n",
       "      <td>2</td>\n",
       "      <td>A003385323</td>\n",
       "      <td>1.0</td>\n",
       "      <td>138610097_2005</td>\n",
       "      <td>1.013861e+10</td>\n",
       "      <td>2005.0</td>\n",
       "      <td>TAX</td>\n",
       "      <td>108.0</td>\n",
       "    </tr>\n",
       "  </tbody>\n",
       "</table>\n",
       "</div>"
      ],
      "text/plain": [
       "    NEAR_DIST  LOCID_DREXEL  UHCMatchCodeRank_MESA  ...    Year  BaseGroup Hierarchy\n",
       "9    0.872865      83870937                      2  ...  2005.0        TAX     108.0\n",
       "10   8.037194      35486391                      2  ...  2005.0        TAX     108.0\n",
       "11   5.322168       9105744                      2  ...  2005.0        TAX     108.0\n",
       "12   6.325217      13809317                      2  ...  2005.0        TAX     108.0\n",
       "13   7.428676      88663423                      2  ...  2005.0        TAX     108.0\n",
       "\n",
       "[5 rows x 10 columns]"
      ]
     },
     "execution_count": 61,
     "metadata": {},
     "output_type": "execute_result"
    }
   ],
   "source": [
    "temp.head()"
   ]
  },
  {
   "cell_type": "code",
   "execution_count": null,
   "metadata": {},
   "outputs": [],
   "source": [
    "# add user input for matchcoderank threshold for mesa and nets\n",
    "# round NEAR_DIST to 3 decimal points and split into bins\n",
    "# set year to integer?\n",
    "# make output only participant id, year, basegroup, highlevel (wide?)"
   ]
  }
 ],
 "metadata": {
  "kernelspec": {
   "display_name": "ArcGISPro",
   "language": "Python",
   "name": "python3"
  },
  "language_info": {
   "file_extension": ".py",
   "name": "python",
   "version": "3"
  }
 },
 "nbformat": 4,
 "nbformat_minor": 2
}
