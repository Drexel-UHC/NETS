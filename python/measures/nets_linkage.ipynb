{
 "cells": [
  {
   "cell_type": "code",
   "execution_count": 69,
   "metadata": {},
   "outputs": [],
   "source": [
    "import pandas as pd\n",
    "import os\n",
    "from datetime import datetime\n",
    "import time"
   ]
  },
  {
   "cell_type": "code",
   "execution_count": 70,
   "metadata": {},
   "outputs": [
    {
     "name": "stdout",
     "output_type": "stream",
     "text": [
      "Start Time: 2024-04-16 20:36:58.672042\n"
     ]
    }
   ],
   "source": [
    "# START SCRIPT TIMER\n",
    "print(f\"Start Time: {datetime.now()}\")\n",
    "tic = time.perf_counter()"
   ]
  },
  {
   "cell_type": "code",
   "execution_count": 71,
   "metadata": {},
   "outputs": [],
   "source": [
    "# ADD USER FILE PATHS\n",
    "dunslocs_file = r'Z:\\UHC_Data\\NETS_UHC\\NETS2022\\Geodatabases\\NETS2022_locs.gdb\\DunsLocations20231130_v2'\n",
    "mesa_locs_file = r'X:\\AddressGeocoding\\From_MESA_Air\\Data\\MESAAIR_locs.gdb\\mesa_locs_aeac_zcta10'\n",
    "near_table_file = r'X:\\AddressGeocoding\\From_MESA_Air\\Data\\Temp\\scratch\\NETS_linkage_test.gdb\\mesa_nets_linkage_test'\n",
    "\n",
    "classifiedlong_file = r'Z:\\UHC_Data\\NETS_UHC\\NETS2022\\Data\\Final\\ClassifiedLong20231127.txt'\n",
    "dunsmove_file = r'Z:\\UHC_Data\\NETS_UHC\\NETS2022\\Data\\Final\\DunsMove20231201.txt'\n",
    "cat_descriptions_file = r'Z:\\UHC_Data\\NETS_UHC\\NETS2022\\Data\\Final\\CategoryDescriptions20231127.txt'\n",
    "# this is either the entire dunslocation file or a subset of the file that is linked to participants\n",
    "dunslocation_file = r'Z:\\UHC_Data\\NETS_UHC\\NETS2022\\Data\\Final\\DunsLocation20231207.txt'\n",
    "xwalk_file = r'Z:\\UHC_Data\\NETS_UHC\\NETS2022\\Data\\Final\\BG_CC_TC_Xwalk20231023.txt'\n",
    "output_folder = r'D:\\scratch'"
   ]
  },
  {
   "cell_type": "code",
   "execution_count": 72,
   "metadata": {},
   "outputs": [],
   "source": [
    "arcpy.env.workspace = r\"F:\\Arc_Projects\\NETS_test_linkage\""
   ]
  },
  {
   "cell_type": "code",
   "execution_count": 73,
   "metadata": {},
   "outputs": [],
   "source": [
    "#%% CONVERT FC TABLE TO PANDAS DF\n",
    "\n",
    "# define function to convert fc table to pandas dataframe\n",
    "def table_to_data_frame(in_table, input_fields=None, where_clause=None):\n",
    "    \"\"\"Function will convert an arcgis table into a pandas dataframe with an object ID index, and the selected\n",
    "    input fields using an arcpy.da.SearchCursor.\"\"\"\n",
    "    OIDFieldName = arcpy.Describe(in_table).OIDFieldName\n",
    "    if input_fields:\n",
    "        final_fields = [OIDFieldName] + input_fields\n",
    "    else:\n",
    "        final_fields = [field.name for field in arcpy.ListFields(in_table)]\n",
    "    data = [row for row in arcpy.da.SearchCursor(in_table, final_fields, where_clause=where_clause)]\n",
    "    fc_dataframe = pd.DataFrame(data, columns=final_fields)\n",
    "    fc_dataframe = fc_dataframe.set_index(OIDFieldName, drop=True)\n",
    "    return fc_dataframe"
   ]
  },
  {
   "cell_type": "code",
   "execution_count": 74,
   "metadata": {
    "scrolled": true
   },
   "outputs": [],
   "source": [
    "# LOAD NEAR TABLE AND MESA LOCS THEN MERGE\n",
    "near_df = table_to_data_frame(near_table_file, input_fields=['IN_FID', 'NEAR_FID', 'NEAR_DIST'])\n",
    "mesa_locs = table_to_data_frame(mesa_locs_file, input_fields=['LOCID_DREXEL', 'UHCMatchCodeRank'])\n",
    "\n",
    "join_locid = (near_df\n",
    "              .merge(mesa_locs, how='left', left_on='IN_FID', right_on='OBJECTID')\n",
    "              .drop(columns=['IN_FID'])\n",
    "              .rename(columns={'UHCMatchCodeRank': 'UHCMatchCodeRank_MESA'})\n",
    "             )"
   ]
  },
  {
   "cell_type": "code",
   "execution_count": 75,
   "metadata": {},
   "outputs": [],
   "source": [
    "dunslocs = table_to_data_frame(dunslocs_file, input_fields=['AddressId', 'UHCMatchCodeRank'])\n",
    "join_dunslocid = (join_locid\n",
    "                  .merge(dunslocs, how='left', left_on='NEAR_FID', right_on='OBJECTID')\n",
    "                  .drop(columns=['NEAR_FID'])\n",
    "                  .rename(columns={'UHCMatchCodeRank': 'UHCMatchCodeRank_NETS'})\n",
    "                 )"
   ]
  },
  {
   "cell_type": "code",
   "execution_count": 76,
   "metadata": {},
   "outputs": [
    {
     "name": "stdout",
     "output_type": "stream",
     "text": [
      "total time: 20.68 minutes\n"
     ]
    }
   ],
   "source": [
    "# END SCRIPT TIMER \n",
    "toc = time.perf_counter()\n",
    "t = toc - tic\n",
    "print(f'total time: {round(t/60, 2)} minutes')"
   ]
  },
  {
   "cell_type": "code",
   "execution_count": 80,
   "metadata": {},
   "outputs": [
    {
     "data": {
      "text/plain": [
       "(242424133, 5)"
      ]
     },
     "execution_count": 80,
     "metadata": {},
     "output_type": "execute_result"
    }
   ],
   "source": [
    "join_dunslocid.shape"
   ]
  },
  {
   "cell_type": "code",
   "execution_count": null,
   "metadata": {},
   "outputs": [],
   "source": []
  }
 ],
 "metadata": {
  "kernelspec": {
   "display_name": "ArcGISPro",
   "language": "Python",
   "name": "python3"
  },
  "language_info": {
   "file_extension": ".py",
   "name": "python",
   "version": "3"
  }
 },
 "nbformat": 4,
 "nbformat_minor": 2
}
